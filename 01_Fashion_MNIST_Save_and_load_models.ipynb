{
  "cells": [
    {
      "cell_type": "markdown",
      "metadata": {
        "id": "view-in-github",
        "colab_type": "text"
      },
      "source": [
        "<a href=\"https://colab.research.google.com/github/gulabpatel/Model_Checkpoingting/blob/main/01_Fashion_MNIST_Save_and_load_models.ipynb\" target=\"_parent\"><img src=\"https://colab.research.google.com/assets/colab-badge.svg\" alt=\"Open In Colab\"/></a>"
      ]
    },
    {
      "cell_type": "code",
      "execution_count": null,
      "metadata": {
        "id": "UwYNsz35HvNZ",
        "outputId": "2f55cf5f-c069-440e-e766-5465ca6829ca",
        "colab": {
          "base_uri": "https://localhost:8080/"
        }
      },
      "outputs": [
        {
          "output_type": "stream",
          "name": "stdout",
          "text": [
            "2.8.0\n"
          ]
        }
      ],
      "source": [
        "import os\n",
        "import tensorflow as tf\n",
        "import keras\n",
        "# MLP for Pima Indians Dataset Serialize to JSON and HDF5\n",
        "\n",
        "print(tf.version.VERSION)"
      ]
    },
    {
      "cell_type": "code",
      "execution_count": null,
      "metadata": {
        "id": "-lYnKfwwHvNe",
        "outputId": "da34f9ae-5c05-403c-8831-61de3594dc49",
        "colab": {
          "base_uri": "https://localhost:8080/"
        }
      },
      "outputs": [
        {
          "output_type": "stream",
          "name": "stdout",
          "text": [
            "Downloading data from https://storage.googleapis.com/tensorflow/tf-keras-datasets/train-labels-idx1-ubyte.gz\n",
            "32768/29515 [=================================] - 0s 0us/step\n",
            "40960/29515 [=========================================] - 0s 0us/step\n",
            "Downloading data from https://storage.googleapis.com/tensorflow/tf-keras-datasets/train-images-idx3-ubyte.gz\n",
            "26427392/26421880 [==============================] - 1s 0us/step\n",
            "26435584/26421880 [==============================] - 1s 0us/step\n",
            "Downloading data from https://storage.googleapis.com/tensorflow/tf-keras-datasets/t10k-labels-idx1-ubyte.gz\n",
            "16384/5148 [===============================================================================================] - 0s 0us/step\n",
            "Downloading data from https://storage.googleapis.com/tensorflow/tf-keras-datasets/t10k-images-idx3-ubyte.gz\n",
            "4423680/4422102 [==============================] - 0s 0us/step\n",
            "4431872/4422102 [==============================] - 0s 0us/step\n"
          ]
        }
      ],
      "source": [
        "#Load the data\n",
        "(train_images, train_labels), (test_images, test_labels) = tf.keras.datasets.fashion_mnist.load_data()"
      ]
    },
    {
      "cell_type": "code",
      "execution_count": null,
      "metadata": {
        "id": "14lvX4DhHvNg",
        "outputId": "289f446b-38cb-477c-a402-d49b322c82e2",
        "colab": {
          "base_uri": "https://localhost:8080/"
        }
      },
      "outputs": [
        {
          "output_type": "execute_result",
          "data": {
            "text/plain": [
              "60000"
            ]
          },
          "metadata": {},
          "execution_count": 3
        }
      ],
      "source": [
        "len(train_images)"
      ]
    },
    {
      "cell_type": "code",
      "execution_count": null,
      "metadata": {
        "id": "TGoJ-PQ3HvNh"
      },
      "outputs": [],
      "source": [
        "\n",
        "train_labels = train_labels[:1000]\n",
        "test_labels = test_labels[:1000]\n",
        "\n",
        "#Normalize the data\n",
        "train_images = train_images[:1000].astype('float32') / 255\n",
        "test_images = test_images[:1000].astype('float32') / 255\n"
      ]
    },
    {
      "cell_type": "code",
      "execution_count": null,
      "metadata": {
        "id": "H7EgiYVeHvNi"
      },
      "outputs": [],
      "source": [
        "# Reshape the data\n",
        "train_images = train_images.reshape((train_images.shape[0],  28, 28,1))\n",
        "test_images = test_images.reshape((test_images.shape[0],  28, 28,1))"
      ]
    },
    {
      "cell_type": "code",
      "execution_count": null,
      "metadata": {
        "id": "046MBvcoHvNj",
        "outputId": "d9c7729b-9bd8-4b3b-c2ca-703bc636fed8",
        "colab": {
          "base_uri": "https://localhost:8080/"
        }
      },
      "outputs": [
        {
          "output_type": "execute_result",
          "data": {
            "text/plain": [
              "1000"
            ]
          },
          "metadata": {},
          "execution_count": 6
        }
      ],
      "source": [
        "len(train_images)"
      ]
    },
    {
      "cell_type": "markdown",
      "metadata": {
        "id": "mETl1aIBHvNj"
      },
      "source": [
        "# Define a simple sequential model"
      ]
    },
    {
      "cell_type": "code",
      "execution_count": null,
      "metadata": {
        "id": "N6tziLdtHvNl"
      },
      "outputs": [],
      "source": [
        "def create_model():\n",
        "    model = tf.keras.Sequential()\n",
        "    # Must define the input shape in the first layer of the neural network\n",
        "    model.add(tf.keras.layers.Conv2D(filters=64, kernel_size=2, padding='same', activation='relu', input_shape=(28,28,1))) \n",
        "    model.add(tf.keras.layers.MaxPooling2D(pool_size=2))\n",
        "    model.add(tf.keras.layers.Dropout(0.3))\n",
        "    model.add(tf.keras.layers.Conv2D(filters=32, kernel_size=2, padding='same', activation='relu'))\n",
        "    model.add(tf.keras.layers.MaxPooling2D(pool_size=2))\n",
        "    model.add(tf.keras.layers.Dropout(0.3))\n",
        "    model.add(tf.keras.layers.Flatten())\n",
        "    model.add(tf.keras.layers.Dense(256, activation='relu'))\n",
        "    model.add(tf.keras.layers.Dropout(0.5))\n",
        "    model.add(tf.keras.layers.Dense(10, activation='softmax'))\n",
        "    \n",
        "    #Compiling the model\n",
        "    model.compile(loss='sparse_categorical_crossentropy',\n",
        "             optimizer='adam',\n",
        "             metrics=['accuracy'])\n",
        "    \n",
        "    return model"
      ]
    },
    {
      "cell_type": "code",
      "execution_count": null,
      "metadata": {
        "id": "Ig-z3vweHvNn"
      },
      "outputs": [],
      "source": [
        ""
      ]
    },
    {
      "cell_type": "code",
      "execution_count": null,
      "metadata": {
        "id": "a6mE-hecHvNo"
      },
      "outputs": [],
      "source": [
        "# Create a basic model instance\n",
        "model = create_model()"
      ]
    },
    {
      "cell_type": "code",
      "execution_count": null,
      "metadata": {
        "id": "QbH6ekAdHvNo"
      },
      "outputs": [],
      "source": [
        "model.compile(loss='sparse_categorical_crossentropy',\n",
        "             optimizer='adam',\n",
        "             metrics=['accuracy'])"
      ]
    },
    {
      "cell_type": "code",
      "execution_count": null,
      "metadata": {
        "id": "kTUgT8TEHvNp",
        "outputId": "f1b21743-1e23-4839-962d-48f64e399272",
        "colab": {
          "base_uri": "https://localhost:8080/"
        }
      },
      "outputs": [
        {
          "output_type": "stream",
          "name": "stdout",
          "text": [
            "Model: \"sequential\"\n",
            "_________________________________________________________________\n",
            " Layer (type)                Output Shape              Param #   \n",
            "=================================================================\n",
            " conv2d (Conv2D)             (None, 28, 28, 64)        320       \n",
            "                                                                 \n",
            " max_pooling2d (MaxPooling2D  (None, 14, 14, 64)       0         \n",
            " )                                                               \n",
            "                                                                 \n",
            " dropout (Dropout)           (None, 14, 14, 64)        0         \n",
            "                                                                 \n",
            " conv2d_1 (Conv2D)           (None, 14, 14, 32)        8224      \n",
            "                                                                 \n",
            " max_pooling2d_1 (MaxPooling  (None, 7, 7, 32)         0         \n",
            " 2D)                                                             \n",
            "                                                                 \n",
            " dropout_1 (Dropout)         (None, 7, 7, 32)          0         \n",
            "                                                                 \n",
            " flatten (Flatten)           (None, 1568)              0         \n",
            "                                                                 \n",
            " dense (Dense)               (None, 256)               401664    \n",
            "                                                                 \n",
            " dropout_2 (Dropout)         (None, 256)               0         \n",
            "                                                                 \n",
            " dense_1 (Dense)             (None, 10)                2570      \n",
            "                                                                 \n",
            "=================================================================\n",
            "Total params: 412,778\n",
            "Trainable params: 412,778\n",
            "Non-trainable params: 0\n",
            "_________________________________________________________________\n"
          ]
        }
      ],
      "source": [
        "# Take a look at the model summary\n",
        "model.summary()"
      ]
    },
    {
      "cell_type": "code",
      "execution_count": null,
      "metadata": {
        "id": "dWd0QdW1HvNp",
        "outputId": "0c671e30-202d-4848-adb8-87fe6b712cf4",
        "colab": {
          "base_uri": "https://localhost:8080/"
        }
      },
      "outputs": [
        {
          "output_type": "stream",
          "name": "stdout",
          "text": [
            "Epoch 1/100\n",
            "16/16 [==============================] - 3s 107ms/step - loss: 1.9237 - accuracy: 0.3320 - val_loss: 1.3155 - val_accuracy: 0.5330\n",
            "Epoch 2/100\n",
            "16/16 [==============================] - 2s 97ms/step - loss: 1.2534 - accuracy: 0.5040 - val_loss: 1.0287 - val_accuracy: 0.5580\n",
            "Epoch 3/100\n",
            "16/16 [==============================] - 1s 92ms/step - loss: 1.0726 - accuracy: 0.5950 - val_loss: 0.9024 - val_accuracy: 0.6620\n",
            "Epoch 4/100\n",
            "16/16 [==============================] - 1s 93ms/step - loss: 0.9330 - accuracy: 0.6500 - val_loss: 0.8354 - val_accuracy: 0.6790\n",
            "Epoch 5/100\n",
            "16/16 [==============================] - 2s 96ms/step - loss: 0.8527 - accuracy: 0.6940 - val_loss: 0.7457 - val_accuracy: 0.7110\n",
            "Epoch 6/100\n",
            "16/16 [==============================] - 2s 99ms/step - loss: 0.7579 - accuracy: 0.7340 - val_loss: 0.6803 - val_accuracy: 0.7570\n",
            "Epoch 7/100\n",
            "16/16 [==============================] - 1s 94ms/step - loss: 0.6578 - accuracy: 0.7410 - val_loss: 0.6667 - val_accuracy: 0.7490\n",
            "Epoch 8/100\n",
            "16/16 [==============================] - 1s 93ms/step - loss: 0.6343 - accuracy: 0.7580 - val_loss: 0.6491 - val_accuracy: 0.7640\n",
            "Epoch 9/100\n",
            "16/16 [==============================] - 1s 94ms/step - loss: 0.6176 - accuracy: 0.7880 - val_loss: 0.6034 - val_accuracy: 0.7750\n",
            "Epoch 10/100\n",
            "16/16 [==============================] - 1s 92ms/step - loss: 0.5863 - accuracy: 0.8060 - val_loss: 0.5944 - val_accuracy: 0.7780\n",
            "Epoch 11/100\n",
            "16/16 [==============================] - 1s 94ms/step - loss: 0.5456 - accuracy: 0.7970 - val_loss: 0.5855 - val_accuracy: 0.7780\n",
            "Epoch 12/100\n",
            "16/16 [==============================] - 1s 94ms/step - loss: 0.5186 - accuracy: 0.8340 - val_loss: 0.5783 - val_accuracy: 0.7880\n",
            "Epoch 13/100\n",
            "16/16 [==============================] - 1s 94ms/step - loss: 0.4935 - accuracy: 0.8320 - val_loss: 0.5615 - val_accuracy: 0.7940\n",
            "Epoch 14/100\n",
            "16/16 [==============================] - 1s 92ms/step - loss: 0.4747 - accuracy: 0.8150 - val_loss: 0.5731 - val_accuracy: 0.7840\n",
            "Epoch 15/100\n",
            "16/16 [==============================] - 1s 94ms/step - loss: 0.4821 - accuracy: 0.8240 - val_loss: 0.5667 - val_accuracy: 0.8000\n",
            "Epoch 16/100\n",
            "16/16 [==============================] - 1s 94ms/step - loss: 0.4499 - accuracy: 0.8240 - val_loss: 0.5385 - val_accuracy: 0.8030\n",
            "Epoch 17/100\n",
            "16/16 [==============================] - 1s 94ms/step - loss: 0.4234 - accuracy: 0.8470 - val_loss: 0.5533 - val_accuracy: 0.8040\n",
            "Epoch 18/100\n",
            "16/16 [==============================] - 1s 94ms/step - loss: 0.4113 - accuracy: 0.8610 - val_loss: 0.5158 - val_accuracy: 0.8110\n",
            "Epoch 19/100\n",
            "16/16 [==============================] - 2s 96ms/step - loss: 0.3835 - accuracy: 0.8710 - val_loss: 0.5325 - val_accuracy: 0.8050\n",
            "Epoch 20/100\n",
            "16/16 [==============================] - 1s 95ms/step - loss: 0.4118 - accuracy: 0.8480 - val_loss: 0.5597 - val_accuracy: 0.7960\n",
            "Epoch 21/100\n",
            "16/16 [==============================] - 1s 93ms/step - loss: 0.4021 - accuracy: 0.8540 - val_loss: 0.5353 - val_accuracy: 0.8090\n",
            "Epoch 22/100\n",
            "16/16 [==============================] - 1s 93ms/step - loss: 0.3784 - accuracy: 0.8710 - val_loss: 0.5307 - val_accuracy: 0.8080\n",
            "Epoch 23/100\n",
            "16/16 [==============================] - 1s 94ms/step - loss: 0.3809 - accuracy: 0.8610 - val_loss: 0.5353 - val_accuracy: 0.8090\n",
            "Epoch 24/100\n",
            "16/16 [==============================] - 1s 94ms/step - loss: 0.3557 - accuracy: 0.8580 - val_loss: 0.5244 - val_accuracy: 0.8170\n",
            "Epoch 25/100\n",
            "16/16 [==============================] - 1s 94ms/step - loss: 0.3425 - accuracy: 0.8850 - val_loss: 0.5337 - val_accuracy: 0.8140\n",
            "Epoch 26/100\n",
            "16/16 [==============================] - 2s 99ms/step - loss: 0.3486 - accuracy: 0.8760 - val_loss: 0.5234 - val_accuracy: 0.8140\n",
            "Epoch 27/100\n",
            "16/16 [==============================] - 1s 93ms/step - loss: 0.3449 - accuracy: 0.8720 - val_loss: 0.5251 - val_accuracy: 0.8130\n",
            "Epoch 28/100\n",
            "16/16 [==============================] - 1s 94ms/step - loss: 0.3257 - accuracy: 0.8790 - val_loss: 0.5162 - val_accuracy: 0.8170\n",
            "Epoch 29/100\n",
            "16/16 [==============================] - 1s 94ms/step - loss: 0.3198 - accuracy: 0.8800 - val_loss: 0.5162 - val_accuracy: 0.8270\n",
            "Epoch 30/100\n",
            "16/16 [==============================] - 1s 93ms/step - loss: 0.3194 - accuracy: 0.8820 - val_loss: 0.5074 - val_accuracy: 0.8320\n",
            "Epoch 31/100\n",
            "16/16 [==============================] - 2s 95ms/step - loss: 0.2971 - accuracy: 0.8860 - val_loss: 0.5233 - val_accuracy: 0.8170\n",
            "Epoch 32/100\n",
            "16/16 [==============================] - 1s 93ms/step - loss: 0.2655 - accuracy: 0.9080 - val_loss: 0.5191 - val_accuracy: 0.8280\n",
            "Epoch 33/100\n",
            "16/16 [==============================] - 2s 130ms/step - loss: 0.2711 - accuracy: 0.9000 - val_loss: 0.5381 - val_accuracy: 0.8140\n",
            "Epoch 34/100\n",
            "16/16 [==============================] - 2s 152ms/step - loss: 0.2649 - accuracy: 0.8990 - val_loss: 0.5380 - val_accuracy: 0.8190\n",
            "Epoch 35/100\n",
            "16/16 [==============================] - 1s 93ms/step - loss: 0.2704 - accuracy: 0.8980 - val_loss: 0.5063 - val_accuracy: 0.8320\n",
            "Epoch 36/100\n",
            "16/16 [==============================] - 2s 95ms/step - loss: 0.2493 - accuracy: 0.9080 - val_loss: 0.5213 - val_accuracy: 0.8260\n",
            "Epoch 37/100\n",
            "16/16 [==============================] - 1s 92ms/step - loss: 0.2533 - accuracy: 0.9100 - val_loss: 0.5103 - val_accuracy: 0.8370\n",
            "Epoch 38/100\n",
            "16/16 [==============================] - 1s 94ms/step - loss: 0.2410 - accuracy: 0.9070 - val_loss: 0.5492 - val_accuracy: 0.8220\n",
            "Epoch 39/100\n",
            "16/16 [==============================] - 2s 95ms/step - loss: 0.2419 - accuracy: 0.9190 - val_loss: 0.5620 - val_accuracy: 0.8140\n",
            "Epoch 40/100\n",
            "16/16 [==============================] - 1s 94ms/step - loss: 0.2350 - accuracy: 0.9170 - val_loss: 0.5274 - val_accuracy: 0.8290\n",
            "Epoch 41/100\n",
            "16/16 [==============================] - 2s 95ms/step - loss: 0.2499 - accuracy: 0.9050 - val_loss: 0.5316 - val_accuracy: 0.8270\n",
            "Epoch 42/100\n",
            "16/16 [==============================] - 1s 93ms/step - loss: 0.2319 - accuracy: 0.9160 - val_loss: 0.5360 - val_accuracy: 0.8240\n",
            "Epoch 43/100\n",
            "16/16 [==============================] - 1s 93ms/step - loss: 0.2278 - accuracy: 0.9120 - val_loss: 0.5371 - val_accuracy: 0.8290\n",
            "Epoch 44/100\n",
            "16/16 [==============================] - 1s 93ms/step - loss: 0.2295 - accuracy: 0.9140 - val_loss: 0.5357 - val_accuracy: 0.8400\n",
            "Epoch 45/100\n",
            "16/16 [==============================] - 1s 94ms/step - loss: 0.2180 - accuracy: 0.9150 - val_loss: 0.5231 - val_accuracy: 0.8390\n",
            "Epoch 46/100\n",
            "16/16 [==============================] - 2s 95ms/step - loss: 0.2032 - accuracy: 0.9270 - val_loss: 0.5540 - val_accuracy: 0.8270\n",
            "Epoch 47/100\n",
            "16/16 [==============================] - 1s 94ms/step - loss: 0.2055 - accuracy: 0.9130 - val_loss: 0.5547 - val_accuracy: 0.8330\n",
            "Epoch 48/100\n",
            "16/16 [==============================] - 1s 93ms/step - loss: 0.1964 - accuracy: 0.9280 - val_loss: 0.5276 - val_accuracy: 0.8290\n",
            "Epoch 49/100\n",
            "16/16 [==============================] - 1s 93ms/step - loss: 0.1873 - accuracy: 0.9240 - val_loss: 0.5580 - val_accuracy: 0.8250\n",
            "Epoch 50/100\n",
            "16/16 [==============================] - 1s 93ms/step - loss: 0.1768 - accuracy: 0.9350 - val_loss: 0.5616 - val_accuracy: 0.8240\n",
            "Epoch 51/100\n",
            "16/16 [==============================] - 1s 93ms/step - loss: 0.2005 - accuracy: 0.9130 - val_loss: 0.5566 - val_accuracy: 0.8250\n",
            "Epoch 52/100\n",
            "16/16 [==============================] - 1s 93ms/step - loss: 0.2125 - accuracy: 0.9260 - val_loss: 0.5332 - val_accuracy: 0.8410\n",
            "Epoch 53/100\n",
            "16/16 [==============================] - 2s 95ms/step - loss: 0.1817 - accuracy: 0.9460 - val_loss: 0.5521 - val_accuracy: 0.8320\n",
            "Epoch 54/100\n",
            "16/16 [==============================] - 1s 94ms/step - loss: 0.1889 - accuracy: 0.9280 - val_loss: 0.5711 - val_accuracy: 0.8300\n",
            "Epoch 55/100\n",
            "16/16 [==============================] - 1s 94ms/step - loss: 0.1687 - accuracy: 0.9380 - val_loss: 0.5575 - val_accuracy: 0.8350\n",
            "Epoch 56/100\n",
            "16/16 [==============================] - 1s 92ms/step - loss: 0.1816 - accuracy: 0.9290 - val_loss: 0.5498 - val_accuracy: 0.8360\n",
            "Epoch 57/100\n",
            "16/16 [==============================] - 1s 94ms/step - loss: 0.1573 - accuracy: 0.9430 - val_loss: 0.6215 - val_accuracy: 0.8120\n",
            "Epoch 58/100\n",
            "16/16 [==============================] - 1s 93ms/step - loss: 0.1783 - accuracy: 0.9380 - val_loss: 0.5683 - val_accuracy: 0.8280\n",
            "Epoch 59/100\n",
            "16/16 [==============================] - 1s 93ms/step - loss: 0.1667 - accuracy: 0.9340 - val_loss: 0.5746 - val_accuracy: 0.8260\n",
            "Epoch 60/100\n",
            "16/16 [==============================] - 2s 96ms/step - loss: 0.1632 - accuracy: 0.9330 - val_loss: 0.5962 - val_accuracy: 0.8290\n",
            "Epoch 61/100\n",
            "16/16 [==============================] - 1s 94ms/step - loss: 0.1631 - accuracy: 0.9360 - val_loss: 0.5941 - val_accuracy: 0.8360\n",
            "Epoch 62/100\n",
            "16/16 [==============================] - 1s 92ms/step - loss: 0.1774 - accuracy: 0.9330 - val_loss: 0.5944 - val_accuracy: 0.8250\n",
            "Epoch 63/100\n",
            "16/16 [==============================] - 1s 93ms/step - loss: 0.1619 - accuracy: 0.9420 - val_loss: 0.5852 - val_accuracy: 0.8280\n",
            "Epoch 64/100\n",
            "16/16 [==============================] - 1s 94ms/step - loss: 0.1359 - accuracy: 0.9500 - val_loss: 0.6059 - val_accuracy: 0.8350\n",
            "Epoch 65/100\n",
            "16/16 [==============================] - 2s 95ms/step - loss: 0.1558 - accuracy: 0.9440 - val_loss: 0.6127 - val_accuracy: 0.8320\n",
            "Epoch 66/100\n",
            "16/16 [==============================] - 1s 93ms/step - loss: 0.1440 - accuracy: 0.9460 - val_loss: 0.6222 - val_accuracy: 0.8340\n",
            "Epoch 67/100\n",
            "16/16 [==============================] - 1s 94ms/step - loss: 0.1243 - accuracy: 0.9480 - val_loss: 0.6134 - val_accuracy: 0.8340\n",
            "Epoch 68/100\n",
            "16/16 [==============================] - 1s 93ms/step - loss: 0.1274 - accuracy: 0.9460 - val_loss: 0.6030 - val_accuracy: 0.8420\n",
            "Epoch 69/100\n",
            "16/16 [==============================] - 1s 91ms/step - loss: 0.1248 - accuracy: 0.9600 - val_loss: 0.6205 - val_accuracy: 0.8260\n",
            "Epoch 70/100\n",
            "16/16 [==============================] - 2s 110ms/step - loss: 0.1236 - accuracy: 0.9570 - val_loss: 0.6436 - val_accuracy: 0.8320\n",
            "Epoch 71/100\n",
            "16/16 [==============================] - 2s 92ms/step - loss: 0.1377 - accuracy: 0.9470 - val_loss: 0.6620 - val_accuracy: 0.8290\n",
            "Epoch 72/100\n",
            "16/16 [==============================] - 2s 97ms/step - loss: 0.1152 - accuracy: 0.9630 - val_loss: 0.6434 - val_accuracy: 0.8350\n",
            "Epoch 73/100\n",
            "16/16 [==============================] - 2s 99ms/step - loss: 0.1379 - accuracy: 0.9480 - val_loss: 0.6208 - val_accuracy: 0.8260\n",
            "Epoch 74/100\n",
            "16/16 [==============================] - 2s 94ms/step - loss: 0.1062 - accuracy: 0.9650 - val_loss: 0.6186 - val_accuracy: 0.8360\n",
            "Epoch 75/100\n",
            "16/16 [==============================] - 1s 92ms/step - loss: 0.1043 - accuracy: 0.9550 - val_loss: 0.6600 - val_accuracy: 0.8360\n",
            "Epoch 76/100\n",
            "16/16 [==============================] - 1s 94ms/step - loss: 0.1252 - accuracy: 0.9540 - val_loss: 0.6615 - val_accuracy: 0.8150\n",
            "Epoch 77/100\n",
            "16/16 [==============================] - 1s 93ms/step - loss: 0.1328 - accuracy: 0.9540 - val_loss: 0.6523 - val_accuracy: 0.8260\n",
            "Epoch 78/100\n",
            "16/16 [==============================] - 1s 93ms/step - loss: 0.1215 - accuracy: 0.9600 - val_loss: 0.6670 - val_accuracy: 0.8250\n",
            "Epoch 79/100\n",
            "16/16 [==============================] - 1s 93ms/step - loss: 0.0994 - accuracy: 0.9590 - val_loss: 0.6901 - val_accuracy: 0.8240\n",
            "Epoch 80/100\n",
            "16/16 [==============================] - 1s 93ms/step - loss: 0.1188 - accuracy: 0.9580 - val_loss: 0.6845 - val_accuracy: 0.8290\n",
            "Epoch 81/100\n",
            "16/16 [==============================] - 1s 92ms/step - loss: 0.0999 - accuracy: 0.9660 - val_loss: 0.6683 - val_accuracy: 0.8300\n",
            "Epoch 82/100\n",
            "16/16 [==============================] - 1s 93ms/step - loss: 0.0916 - accuracy: 0.9700 - val_loss: 0.6958 - val_accuracy: 0.8290\n",
            "Epoch 83/100\n",
            "16/16 [==============================] - 1s 92ms/step - loss: 0.0959 - accuracy: 0.9690 - val_loss: 0.6834 - val_accuracy: 0.8260\n",
            "Epoch 84/100\n",
            "16/16 [==============================] - 1s 92ms/step - loss: 0.1027 - accuracy: 0.9590 - val_loss: 0.7107 - val_accuracy: 0.8280\n",
            "Epoch 85/100\n",
            "16/16 [==============================] - 1s 94ms/step - loss: 0.1146 - accuracy: 0.9630 - val_loss: 0.6798 - val_accuracy: 0.8400\n",
            "Epoch 86/100\n",
            "16/16 [==============================] - 2s 118ms/step - loss: 0.0913 - accuracy: 0.9700 - val_loss: 0.6936 - val_accuracy: 0.8320\n",
            "Epoch 87/100\n",
            "16/16 [==============================] - 1s 92ms/step - loss: 0.0946 - accuracy: 0.9700 - val_loss: 0.7238 - val_accuracy: 0.8330\n",
            "Epoch 88/100\n",
            "16/16 [==============================] - 1s 92ms/step - loss: 0.1090 - accuracy: 0.9610 - val_loss: 0.7048 - val_accuracy: 0.8300\n",
            "Epoch 89/100\n",
            "16/16 [==============================] - 1s 92ms/step - loss: 0.1179 - accuracy: 0.9530 - val_loss: 0.6887 - val_accuracy: 0.8270\n",
            "Epoch 90/100\n",
            "16/16 [==============================] - 1s 92ms/step - loss: 0.1187 - accuracy: 0.9570 - val_loss: 0.6936 - val_accuracy: 0.8300\n",
            "Epoch 91/100\n",
            "16/16 [==============================] - 1s 93ms/step - loss: 0.0972 - accuracy: 0.9630 - val_loss: 0.6774 - val_accuracy: 0.8230\n",
            "Epoch 92/100\n",
            "16/16 [==============================] - 1s 92ms/step - loss: 0.0888 - accuracy: 0.9740 - val_loss: 0.7031 - val_accuracy: 0.8250\n",
            "Epoch 93/100\n",
            "16/16 [==============================] - 1s 93ms/step - loss: 0.0756 - accuracy: 0.9700 - val_loss: 0.7267 - val_accuracy: 0.8250\n",
            "Epoch 94/100\n",
            "16/16 [==============================] - 1s 92ms/step - loss: 0.0852 - accuracy: 0.9680 - val_loss: 0.7010 - val_accuracy: 0.8280\n",
            "Epoch 95/100\n",
            "16/16 [==============================] - 1s 93ms/step - loss: 0.0848 - accuracy: 0.9670 - val_loss: 0.7337 - val_accuracy: 0.8220\n",
            "Epoch 96/100\n",
            "16/16 [==============================] - 1s 93ms/step - loss: 0.0834 - accuracy: 0.9740 - val_loss: 0.6986 - val_accuracy: 0.8310\n",
            "Epoch 97/100\n",
            "16/16 [==============================] - 1s 93ms/step - loss: 0.0716 - accuracy: 0.9790 - val_loss: 0.7171 - val_accuracy: 0.8270\n",
            "Epoch 98/100\n",
            "16/16 [==============================] - 1s 93ms/step - loss: 0.0753 - accuracy: 0.9740 - val_loss: 0.7335 - val_accuracy: 0.8350\n",
            "Epoch 99/100\n",
            "16/16 [==============================] - 1s 93ms/step - loss: 0.0828 - accuracy: 0.9710 - val_loss: 0.7364 - val_accuracy: 0.8310\n",
            "Epoch 100/100\n",
            "16/16 [==============================] - 1s 94ms/step - loss: 0.0942 - accuracy: 0.9650 - val_loss: 0.7473 - val_accuracy: 0.8310\n"
          ]
        },
        {
          "output_type": "execute_result",
          "data": {
            "text/plain": [
              "<keras.callbacks.History at 0x7fbb84dd8cd0>"
            ]
          },
          "metadata": {},
          "execution_count": 11
        }
      ],
      "source": [
        "model.fit(train_images, \n",
        "          train_labels,  \n",
        "          batch_size=64,\n",
        "          epochs=100\n",
        "          ,\n",
        "          validation_data=(test_images,test_labels))"
      ]
    },
    {
      "cell_type": "code",
      "execution_count": null,
      "metadata": {
        "id": "5z2ZymF7HvNq",
        "outputId": "059be5b7-ba91-49fe-cf78-48e3598f8386",
        "colab": {
          "base_uri": "https://localhost:8080/"
        }
      },
      "outputs": [
        {
          "output_type": "stream",
          "name": "stdout",
          "text": [
            "32/32 - 0s - loss: 0.7473 - accuracy: 0.8310 - 301ms/epoch - 9ms/step\n"
          ]
        }
      ],
      "source": [
        "loss,acc = model.evaluate(test_images,  test_labels, verbose=2)"
      ]
    },
    {
      "cell_type": "code",
      "execution_count": null,
      "metadata": {
        "id": "oL58kUCLHvNq"
      },
      "outputs": [],
      "source": [
        "from keras.models import model_from_json"
      ]
    },
    {
      "cell_type": "code",
      "execution_count": null,
      "metadata": {
        "id": "UlKm1IQlHvNr"
      },
      "outputs": [],
      "source": [
        "# serialize model to json\n",
        "json_model = model.to_json()\n",
        "#json_model"
      ]
    },
    {
      "cell_type": "code",
      "execution_count": null,
      "metadata": {
        "id": "yzUs680cHvNr"
      },
      "outputs": [],
      "source": [
        "\n",
        "#save the model architecture to JSON file\n",
        "with open('fashionmnist_model.json', 'w') as json_file:\n",
        "    json_file.write(json_model)\n"
      ]
    },
    {
      "cell_type": "code",
      "execution_count": null,
      "metadata": {
        "id": "XU21b3HOHvNs"
      },
      "outputs": [],
      "source": [
        "#saving the weights of the model\n",
        "model.save_weights('FashionMNIST_weights.h5')"
      ]
    },
    {
      "cell_type": "code",
      "execution_count": null,
      "metadata": {
        "id": "laISPMC-HvNs",
        "outputId": "7d58f91b-7483-4670-c7e5-1f4d49bc9da8",
        "colab": {
          "base_uri": "https://localhost:8080/"
        }
      },
      "outputs": [
        {
          "output_type": "stream",
          "name": "stdout",
          "text": [
            "Model: \"sequential\"\n",
            "_________________________________________________________________\n",
            " Layer (type)                Output Shape              Param #   \n",
            "=================================================================\n",
            " conv2d (Conv2D)             (None, 28, 28, 64)        320       \n",
            "                                                                 \n",
            " max_pooling2d (MaxPooling2D  (None, 14, 14, 64)       0         \n",
            " )                                                               \n",
            "                                                                 \n",
            " dropout (Dropout)           (None, 14, 14, 64)        0         \n",
            "                                                                 \n",
            " conv2d_1 (Conv2D)           (None, 14, 14, 32)        8224      \n",
            "                                                                 \n",
            " max_pooling2d_1 (MaxPooling  (None, 7, 7, 32)         0         \n",
            " 2D)                                                             \n",
            "                                                                 \n",
            " dropout_1 (Dropout)         (None, 7, 7, 32)          0         \n",
            "                                                                 \n",
            " flatten (Flatten)           (None, 1568)              0         \n",
            "                                                                 \n",
            " dense (Dense)               (None, 256)               401664    \n",
            "                                                                 \n",
            " dropout_2 (Dropout)         (None, 256)               0         \n",
            "                                                                 \n",
            " dense_1 (Dense)             (None, 10)                2570      \n",
            "                                                                 \n",
            "=================================================================\n",
            "Total params: 412,778\n",
            "Trainable params: 412,778\n",
            "Non-trainable params: 0\n",
            "_________________________________________________________________\n"
          ]
        }
      ],
      "source": [
        "\n",
        "from keras.initializers import glorot_uniform\n",
        "\n",
        "# Creating a new model from the saved JSON file\n",
        "# reda the model from the JSOn file\n",
        "with open('fashionmnist_model.json', 'r') as json_file:\n",
        "    json_savedModel= json_file.read()\n",
        "#json_savedModel\n",
        "#load the model architecture \n",
        "model_j = tf.keras.models.model_from_json(json_savedModel)\n",
        "model_j.summary()"
      ]
    },
    {
      "cell_type": "code",
      "execution_count": null,
      "metadata": {
        "id": "0QLUX6xzHvNt"
      },
      "outputs": [],
      "source": [
        "model_j.load_weights('FashionMNIST_weights.h5')"
      ]
    },
    {
      "cell_type": "code",
      "execution_count": null,
      "metadata": {
        "id": "pF44JoJ4HvNt"
      },
      "outputs": [],
      "source": [
        "#Compiling the model\n",
        "model_j.compile(loss='sparse_categorical_crossentropy',\n",
        "         optimizer='SGD',\n",
        "         metrics=['accuracy'])"
      ]
    },
    {
      "cell_type": "code",
      "execution_count": null,
      "metadata": {
        "id": "Gdu0q6ZlHvNu",
        "outputId": "d57389b5-83c9-44dc-f47c-cbe4bea19195",
        "colab": {
          "base_uri": "https://localhost:8080/"
        }
      },
      "outputs": [
        {
          "output_type": "stream",
          "name": "stdout",
          "text": [
            "32/32 - 1s - loss: 0.7473 - accuracy: 0.8310 - 537ms/epoch - 17ms/step\n"
          ]
        }
      ],
      "source": [
        "loss,acc = model_j.evaluate(test_images,  test_labels, verbose=2)"
      ]
    },
    {
      "cell_type": "code",
      "execution_count": null,
      "metadata": {
        "id": "R9LuhxJrHvNw"
      },
      "outputs": [],
      "source": [
        "#saving the smodel's architecture, weights, and training configuration in a single file/folder. \n",
        "#This allows you to export a model so it can be used without access to the original Python code\n",
        "#Since the optimizer-state is recovered, you can resume training from exactly where you left off.\n",
        "model.save('fashionmnist.h5')"
      ]
    },
    {
      "cell_type": "code",
      "execution_count": null,
      "metadata": {
        "id": "sLtbHJLTHvNx",
        "outputId": "b64032f3-1865-4ebc-8e2e-cd6e66ae1853",
        "colab": {
          "base_uri": "https://localhost:8080/"
        }
      },
      "outputs": [
        {
          "output_type": "stream",
          "name": "stdout",
          "text": [
            "Model: \"sequential\"\n",
            "_________________________________________________________________\n",
            " Layer (type)                Output Shape              Param #   \n",
            "=================================================================\n",
            " conv2d (Conv2D)             (None, 28, 28, 64)        320       \n",
            "                                                                 \n",
            " max_pooling2d (MaxPooling2D  (None, 14, 14, 64)       0         \n",
            " )                                                               \n",
            "                                                                 \n",
            " dropout (Dropout)           (None, 14, 14, 64)        0         \n",
            "                                                                 \n",
            " conv2d_1 (Conv2D)           (None, 14, 14, 32)        8224      \n",
            "                                                                 \n",
            " max_pooling2d_1 (MaxPooling  (None, 7, 7, 32)         0         \n",
            " 2D)                                                             \n",
            "                                                                 \n",
            " dropout_1 (Dropout)         (None, 7, 7, 32)          0         \n",
            "                                                                 \n",
            " flatten (Flatten)           (None, 1568)              0         \n",
            "                                                                 \n",
            " dense (Dense)               (None, 256)               401664    \n",
            "                                                                 \n",
            " dropout_2 (Dropout)         (None, 256)               0         \n",
            "                                                                 \n",
            " dense_1 (Dense)             (None, 10)                2570      \n",
            "                                                                 \n",
            "=================================================================\n",
            "Total params: 412,778\n",
            "Trainable params: 412,778\n",
            "Non-trainable params: 0\n",
            "_________________________________________________________________\n"
          ]
        }
      ],
      "source": [
        "# loading the model from the H5 file\n",
        "model_h5 = tf.keras.models.load_model('fashionmnist.h5')\n",
        "model_h5.summary()"
      ]
    },
    {
      "cell_type": "code",
      "execution_count": null,
      "metadata": {
        "id": "k1YtP1K4HvNx",
        "outputId": "2d5dbbc2-ee7c-4589-9d54-9314b9f8cc1d",
        "colab": {
          "base_uri": "https://localhost:8080/"
        }
      },
      "outputs": [
        {
          "output_type": "stream",
          "name": "stdout",
          "text": [
            "32/32 - 0s - loss: 0.7473 - accuracy: 0.8310 - 454ms/epoch - 14ms/step\n"
          ]
        }
      ],
      "source": [
        "loss,acc = model_h5.evaluate(test_images,  test_labels, verbose=2)"
      ]
    },
    {
      "cell_type": "code",
      "execution_count": null,
      "metadata": {
        "id": "KQu1y6hjHvNx"
      },
      "outputs": [],
      "source": [
        "def create_model():\n",
        "    model = tf.keras.Sequential()\n",
        "    # Must define the input shape in the first layer of the neural network\n",
        "    model.add(tf.keras.layers.Conv2D(filters=64, kernel_size=2, padding='same', activation='relu', input_shape=(28,28,1))) \n",
        "    model.add(tf.keras.layers.MaxPooling2D(pool_size=2))\n",
        "    model.add(tf.keras.layers.Dropout(0.3))\n",
        "    model.add(tf.keras.layers.Conv2D(filters=32, kernel_size=2, padding='same', activation='relu'))\n",
        "    model.add(tf.keras.layers.MaxPooling2D(pool_size=2))\n",
        "    model.add(tf.keras.layers.Dropout(0.3))\n",
        "    model.add(tf.keras.layers.Flatten())\n",
        "    model.add(tf.keras.layers.Dense(256, activation='relu'))\n",
        "    model.add(tf.keras.layers.Dropout(0.5))\n",
        "    model.add(tf.keras.layers.Dense(10, activation='softmax'))\n",
        "    \n",
        "    #Compiling the model\n",
        "    model.compile(loss='sparse_categorical_crossentropy',\n",
        "             optimizer='adam',\n",
        "             metrics=['accuracy'])\n",
        "    \n",
        "    return model"
      ]
    },
    {
      "cell_type": "code",
      "execution_count": null,
      "metadata": {
        "id": "3WhKResCHvNx"
      },
      "outputs": [],
      "source": [
        "model_ckpt= create_model()"
      ]
    },
    {
      "cell_type": "code",
      "execution_count": null,
      "metadata": {
        "id": "OOOWZE4VHvNx"
      },
      "outputs": [],
      "source": [
        "checkpoint_path = \"train_ckpt/cp.ckpt\""
      ]
    },
    {
      "cell_type": "code",
      "execution_count": null,
      "metadata": {
        "id": "WeUU4caIHvNy"
      },
      "outputs": [],
      "source": [
        "# Create a callback that saves the model's weights\n",
        "cp_callback = tf.keras.callbacks.ModelCheckpoint(filepath=checkpoint_path,save_best_only=True, save_weights_only=True, verbose=1)"
      ]
    },
    {
      "cell_type": "code",
      "execution_count": null,
      "metadata": {
        "id": "GF_Ld2foHvNy",
        "outputId": "216b1900-0039-4c6c-8511-427efaf68bc0",
        "colab": {
          "base_uri": "https://localhost:8080/"
        }
      },
      "outputs": [
        {
          "output_type": "stream",
          "name": "stdout",
          "text": [
            "Epoch 1/10\n",
            "16/16 [==============================] - ETA: 0s - loss: 1.8957 - accuracy: 0.3470\n",
            "Epoch 1: val_loss improved from inf to 1.31642, saving model to train_ckpt/cp.ckpt\n",
            "16/16 [==============================] - 2s 107ms/step - loss: 1.8957 - accuracy: 0.3470 - val_loss: 1.3164 - val_accuracy: 0.5740\n",
            "Epoch 2/10\n",
            "15/16 [===========================>..] - ETA: 0s - loss: 1.3035 - accuracy: 0.4833\n",
            "Epoch 2: val_loss improved from 1.31642 to 1.11431, saving model to train_ckpt/cp.ckpt\n",
            "16/16 [==============================] - 2s 97ms/step - loss: 1.2981 - accuracy: 0.4880 - val_loss: 1.1143 - val_accuracy: 0.5640\n",
            "Epoch 3/10\n",
            "16/16 [==============================] - ETA: 0s - loss: 1.0849 - accuracy: 0.5800\n",
            "Epoch 3: val_loss improved from 1.11431 to 0.93843, saving model to train_ckpt/cp.ckpt\n",
            "16/16 [==============================] - 1s 94ms/step - loss: 1.0849 - accuracy: 0.5800 - val_loss: 0.9384 - val_accuracy: 0.6220\n",
            "Epoch 4/10\n",
            "16/16 [==============================] - ETA: 0s - loss: 0.9546 - accuracy: 0.6180\n",
            "Epoch 4: val_loss improved from 0.93843 to 0.82215, saving model to train_ckpt/cp.ckpt\n",
            "16/16 [==============================] - 1s 95ms/step - loss: 0.9546 - accuracy: 0.6180 - val_loss: 0.8221 - val_accuracy: 0.6900\n",
            "Epoch 5/10\n",
            "16/16 [==============================] - ETA: 0s - loss: 0.8605 - accuracy: 0.7010\n",
            "Epoch 5: val_loss improved from 0.82215 to 0.76366, saving model to train_ckpt/cp.ckpt\n",
            "16/16 [==============================] - 2s 96ms/step - loss: 0.8605 - accuracy: 0.7010 - val_loss: 0.7637 - val_accuracy: 0.7280\n",
            "Epoch 6/10\n",
            "16/16 [==============================] - ETA: 0s - loss: 0.7393 - accuracy: 0.7350\n",
            "Epoch 6: val_loss improved from 0.76366 to 0.69851, saving model to train_ckpt/cp.ckpt\n",
            "16/16 [==============================] - 2s 97ms/step - loss: 0.7393 - accuracy: 0.7350 - val_loss: 0.6985 - val_accuracy: 0.7540\n",
            "Epoch 7/10\n",
            "16/16 [==============================] - ETA: 0s - loss: 0.6998 - accuracy: 0.7440\n",
            "Epoch 7: val_loss improved from 0.69851 to 0.67278, saving model to train_ckpt/cp.ckpt\n",
            "16/16 [==============================] - 2s 96ms/step - loss: 0.6998 - accuracy: 0.7440 - val_loss: 0.6728 - val_accuracy: 0.7600\n",
            "Epoch 8/10\n",
            "16/16 [==============================] - ETA: 0s - loss: 0.6253 - accuracy: 0.7840\n",
            "Epoch 8: val_loss improved from 0.67278 to 0.59901, saving model to train_ckpt/cp.ckpt\n",
            "16/16 [==============================] - 2s 95ms/step - loss: 0.6253 - accuracy: 0.7840 - val_loss: 0.5990 - val_accuracy: 0.7850\n",
            "Epoch 9/10\n",
            "15/16 [===========================>..] - ETA: 0s - loss: 0.5825 - accuracy: 0.7948\n",
            "Epoch 9: val_loss did not improve from 0.59901\n",
            "16/16 [==============================] - 2s 95ms/step - loss: 0.5861 - accuracy: 0.7920 - val_loss: 0.6365 - val_accuracy: 0.7730\n",
            "Epoch 10/10\n",
            "16/16 [==============================] - ETA: 0s - loss: 0.5747 - accuracy: 0.7970\n",
            "Epoch 10: val_loss improved from 0.59901 to 0.58703, saving model to train_ckpt/cp.ckpt\n",
            "16/16 [==============================] - 2s 98ms/step - loss: 0.5747 - accuracy: 0.7970 - val_loss: 0.5870 - val_accuracy: 0.7840\n"
          ]
        },
        {
          "output_type": "execute_result",
          "data": {
            "text/plain": [
              "<keras.callbacks.History at 0x7fbb84c15910>"
            ]
          },
          "metadata": {},
          "execution_count": 34
        }
      ],
      "source": [
        "# Train the model with the new callback\n",
        "model_ckpt.fit(train_images, \n",
        "          train_labels,  \n",
        "          batch_size=64,\n",
        "          epochs=10,\n",
        "          validation_data=(test_images,test_labels),\n",
        "          callbacks=[cp_callback])  # Pass callback to training"
      ]
    },
    {
      "cell_type": "code",
      "execution_count": null,
      "metadata": {
        "id": "3Z55wN1RHvNz",
        "outputId": "b3ee6771-0823-4abb-9459-2104850b08c3",
        "colab": {
          "base_uri": "https://localhost:8080/"
        }
      },
      "outputs": [
        {
          "output_type": "stream",
          "name": "stdout",
          "text": [
            "32/32 - 0s - loss: 0.5870 - accuracy: 0.7840 - 304ms/epoch - 9ms/step\n"
          ]
        }
      ],
      "source": [
        "loss,acc = model_ckpt.evaluate(test_images,  test_labels, verbose=2)"
      ]
    },
    {
      "cell_type": "code",
      "execution_count": null,
      "metadata": {
        "id": "QkT-hnDsHvN0"
      },
      "outputs": [],
      "source": [
        "# Create a basic model instance\n",
        "model_ckpt2 = create_model()"
      ]
    },
    {
      "cell_type": "code",
      "execution_count": null,
      "metadata": {
        "id": "ak9qbKV1HvN0",
        "outputId": "822ef475-d9d9-4831-da5d-c74dd66bebc7",
        "colab": {
          "base_uri": "https://localhost:8080/"
        }
      },
      "outputs": [
        {
          "output_type": "execute_result",
          "data": {
            "text/plain": [
              "<tensorflow.python.training.tracking.util.CheckpointLoadStatus at 0x7fbb84a7d810>"
            ]
          },
          "metadata": {},
          "execution_count": 37
        }
      ],
      "source": [
        "model_ckpt2.load_weights(checkpoint_path)"
      ]
    },
    {
      "cell_type": "code",
      "execution_count": null,
      "metadata": {
        "id": "HL9IOU4OHvN0",
        "outputId": "45a69450-164e-438b-8a7e-5a390d953863",
        "colab": {
          "base_uri": "https://localhost:8080/"
        }
      },
      "outputs": [
        {
          "output_type": "stream",
          "name": "stdout",
          "text": [
            "32/32 - 1s - loss: 0.5870 - accuracy: 0.7840 - 543ms/epoch - 17ms/step\n",
            "Restored model, accuracy: 78.40%\n"
          ]
        }
      ],
      "source": [
        "loss,acc = model_ckpt2.evaluate(test_images,  test_labels, verbose=2)\n",
        "print(\"Restored model, accuracy: {:5.2f}%\".format(100*acc))"
      ]
    },
    {
      "cell_type": "code",
      "execution_count": null,
      "metadata": {
        "id": "C1suUWEsHvN1",
        "outputId": "6929635a-e5e6-446a-a6a0-f60b5121f65b",
        "colab": {
          "base_uri": "https://localhost:8080/"
        }
      },
      "outputs": [
        {
          "output_type": "stream",
          "name": "stdout",
          "text": [
            "32/32 - 0s - loss: 0.5870 - accuracy: 0.7840 - 299ms/epoch - 9ms/step\n",
            "Restored model, accuracy: 78.40%\n"
          ]
        }
      ],
      "source": [
        "loss,acc = model_ckpt2.evaluate(test_images,  test_labels, verbose=2)\n",
        "print(\"Restored model, accuracy: {:5.2f}%\".format(100*acc))"
      ]
    },
    {
      "cell_type": "code",
      "execution_count": null,
      "metadata": {
        "id": "iaC4iHxNHvN1"
      },
      "outputs": [],
      "source": [
        "# Train the model with the new callback\n",
        "model_ckpt2.fit(train_images, \n",
        "          train_labels,  \n",
        "          batch_size=64,\n",
        "          epochs=10,\n",
        "          validation_data=(test_images,test_labels),\n",
        "          callbacks=[cp_callback])  # Pass callback to training"
      ]
    },
    {
      "cell_type": "code",
      "execution_count": null,
      "metadata": {
        "id": "g1qhuuQcHvN1",
        "outputId": "3a3f3793-6f29-48a1-d5ec-d99b80e61cda",
        "colab": {
          "base_uri": "https://localhost:8080/"
        }
      },
      "outputs": [
        {
          "output_type": "stream",
          "name": "stdout",
          "text": [
            "32/32 - 0s - loss: 0.5255 - accuracy: 0.8180 - 303ms/epoch - 9ms/step\n",
            "Restored model, accuracy: 81.80%\n"
          ]
        }
      ],
      "source": [
        "loss,acc = model_ckpt2.evaluate(test_images,  test_labels, verbose=2)\n",
        "print(\"Restored model, accuracy: {:5.2f}%\".format(100*acc))"
      ]
    },
    {
      "cell_type": "code",
      "execution_count": null,
      "metadata": {
        "id": "LLaQywd2HvN1"
      },
      "outputs": [],
      "source": [
        "#get the latest checkpoint file\n",
        "checkpoint_dir = os.path.dirname(checkpoint_path)\n",
        "latest = tf.train.latest_checkpoint(checkpoint_dir)"
      ]
    },
    {
      "cell_type": "code",
      "source": [
        "latest"
      ],
      "metadata": {
        "id": "iNJunK6YJ64Z",
        "outputId": "e6dd0ef1-4afe-4faf-b54e-b21080d89602",
        "colab": {
          "base_uri": "https://localhost:8080/",
          "height": 35
        }
      },
      "execution_count": null,
      "outputs": [
        {
          "output_type": "execute_result",
          "data": {
            "text/plain": [
              "'train_ckpt/cp.ckpt'"
            ],
            "application/vnd.google.colaboratory.intrinsic+json": {
              "type": "string"
            }
          },
          "metadata": {},
          "execution_count": 44
        }
      ]
    },
    {
      "cell_type": "code",
      "execution_count": null,
      "metadata": {
        "id": "AuwKqvjiHvN2",
        "outputId": "e5f7c865-6851-4a5f-a83f-685441f55a44",
        "colab": {
          "base_uri": "https://localhost:8080/"
        }
      },
      "outputs": [
        {
          "output_type": "stream",
          "name": "stdout",
          "text": [
            "32/32 - 1s - loss: 0.5189 - accuracy: 0.8050 - 523ms/epoch - 16ms/step\n",
            "Restored model, accuracy: 80.50%\n"
          ]
        }
      ],
      "source": [
        "#Create a new model instance\n",
        "model_latest_checkpoint = create_model()\n",
        "# Load the previously saved weights\n",
        "model_latest_checkpoint.load_weights(latest)\n",
        "# Re-evaluate the model\n",
        "loss, acc = model_latest_checkpoint.evaluate(test_images,  test_labels, verbose=2)\n",
        "print(\"Restored model, accuracy: {:5.2f}%\".format(100*acc))"
      ]
    },
    {
      "cell_type": "code",
      "execution_count": null,
      "metadata": {
        "id": "c-nChI5rHvN2"
      },
      "outputs": [],
      "source": [
        "# Include the epoch in the file name (uses `str.format`)\n",
        "checkpoint_path = \"traiinig2/cp-{epoch:04d}.ckpt\"\n",
        "#checkpoint_dir = os.path.dirname(checkpoint_path)"
      ]
    },
    {
      "cell_type": "code",
      "execution_count": null,
      "metadata": {
        "id": "wqSjFY2YHvN2"
      },
      "outputs": [],
      "source": [
        "# Create a callback that saves the model's weights every 5 epochs\n",
        "cp_callback = tf.keras.callbacks.ModelCheckpoint(\n",
        "    filepath=checkpoint_path, \n",
        "    verbose=1, \n",
        "    save_weights_only=True,\n",
        "    save_freq=5)"
      ]
    },
    {
      "cell_type": "code",
      "execution_count": null,
      "metadata": {
        "id": "blLkn56-HvN3"
      },
      "outputs": [],
      "source": [
        "# Create a basic model instance\n",
        "model_3 = create_model()"
      ]
    },
    {
      "cell_type": "code",
      "execution_count": null,
      "metadata": {
        "id": "I_mx2hUUHvN3"
      },
      "outputs": [],
      "source": [
        "# Train the model with the new callback\n",
        "model_3.fit(train_images, \n",
        "              train_labels,\n",
        "              epochs=50, \n",
        "              callbacks=[cp_callback],\n",
        "              validation_data=(test_images,test_labels),\n",
        "              verbose=0)"
      ]
    },
    {
      "cell_type": "code",
      "execution_count": null,
      "metadata": {
        "id": "wX_8YIuhHvN3"
      },
      "outputs": [],
      "source": [
        "!dir traiinig2"
      ]
    },
    {
      "cell_type": "code",
      "execution_count": null,
      "metadata": {
        "id": "Udce_RGRHvN3"
      },
      "outputs": [],
      "source": [
        "checkpoint_dir = os.path.dirname(checkpoint_path)\n",
        "latest = tf.train.latest_checkpoint(checkpoint_dir)"
      ]
    },
    {
      "cell_type": "code",
      "execution_count": null,
      "metadata": {
        "id": "6QmO9QOJHvN3",
        "outputId": "cd4a71d3-e9e2-485c-c48b-29adaefde39d",
        "colab": {
          "base_uri": "https://localhost:8080/"
        }
      },
      "outputs": [
        {
          "output_type": "stream",
          "name": "stdout",
          "text": [
            "32/32 - 1s - loss: 0.6085 - accuracy: 0.8220 - 547ms/epoch - 17ms/step\n",
            "Restored model, accuracy: 82.20%\n"
          ]
        }
      ],
      "source": [
        "# Create a new model instance\n",
        "model_latest_checkpoint = create_model()\n",
        "\n",
        "# Load the previously saved weights\n",
        "model_latest_checkpoint.load_weights(latest)\n",
        "\n",
        "# Re-evaluate the model\n",
        "loss, acc = model_latest_checkpoint.evaluate(test_images,  test_labels, verbose=2)\n",
        "print(\"Restored model, accuracy: {:5.2f}%\".format(100*acc))"
      ]
    }
  ],
  "metadata": {
    "kernelspec": {
      "display_name": "Python 3",
      "language": "python",
      "name": "python3"
    },
    "colab": {
      "name": "01: Fashion MNIST-Save and load models.ipynb",
      "provenance": [],
      "include_colab_link": true
    }
  },
  "nbformat": 4,
  "nbformat_minor": 0
}